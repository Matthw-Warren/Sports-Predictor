{
 "cells": [
  {
   "cell_type": "markdown",
   "id": "7bd98306",
   "metadata": {},
   "source": [
    "# Stats\n",
    "This is a notebook for me to go through some stats modelling in Python\n",
    "\n",
    "Trying to implement what I've learnt in stats courses.\n",
    "\n"
   ]
  },
  {
   "cell_type": "code",
   "execution_count": 2,
   "id": "71ece2f3",
   "metadata": {},
   "outputs": [],
   "source": [
    "import stat \n",
    "import pandas as pd"
   ]
  },
  {
   "cell_type": "code",
   "execution_count": null,
   "id": "ca1adc90",
   "metadata": {},
   "outputs": [],
   "source": []
  }
 ],
 "metadata": {
  "kernelspec": {
   "display_name": "base",
   "language": "python",
   "name": "python3"
  },
  "language_info": {
   "codemirror_mode": {
    "name": "ipython",
    "version": 3
   },
   "file_extension": ".py",
   "mimetype": "text/x-python",
   "name": "python",
   "nbconvert_exporter": "python",
   "pygments_lexer": "ipython3",
   "version": "3.12.7"
  }
 },
 "nbformat": 4,
 "nbformat_minor": 5
}
