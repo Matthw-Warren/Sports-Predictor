{
 "cells": [
  {
   "cell_type": "markdown",
   "id": "7bd98306",
   "metadata": {},
   "source": [
    "# Stats\n",
    "This is a notebook for me to go through some stats modelling in Python\n",
    "\n",
    "Trying to implement what I've learnt in stats courses.\n",
    "\n"
   ]
  },
  {
   "cell_type": "markdown",
   "id": "942a2eb9",
   "metadata": {},
   "source": []
  }
 ],
 "metadata": {
  "language_info": {
   "name": "python"
  }
 },
 "nbformat": 4,
 "nbformat_minor": 5
}
